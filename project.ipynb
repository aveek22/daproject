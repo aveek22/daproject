{
 "metadata": {
  "language_info": {
   "codemirror_mode": {
    "name": "ipython",
    "version": 3
   },
   "file_extension": ".py",
   "mimetype": "text/x-python",
   "name": "python",
   "nbconvert_exporter": "python",
   "pygments_lexer": "ipython3",
   "version": "3.9.2"
  },
  "orig_nbformat": 2,
  "kernelspec": {
   "name": "python392jvsc74a57bd04cd7ab41f5fca4b9b44701077e38c5ffd31fe66a6cab21e0214b68d958d0e462",
   "display_name": "Python 3.9.2 64-bit"
  },
  "metadata": {
   "interpreter": {
    "hash": "4cd7ab41f5fca4b9b44701077e38c5ffd31fe66a6cab21e0214b68d958d0e462"
   }
  }
 },
 "nbformat": 4,
 "nbformat_minor": 2,
 "cells": [
  {
   "cell_type": "code",
   "execution_count": 2,
   "metadata": {},
   "outputs": [],
   "source": [
    "import geopandas as gp"
   ]
  },
  {
   "cell_type": "code",
   "execution_count": 3,
   "metadata": {},
   "outputs": [],
   "source": [
    "data = gp.read_file('data/houses_lr.geojson')"
   ]
  },
  {
   "cell_type": "code",
   "execution_count": 4,
   "metadata": {},
   "outputs": [
    {
     "output_type": "execute_result",
     "data": {
      "text/plain": [
       "  postcode      price dateoftransfer propertytype oldnew duration  \\\n",
       "0   CR53EZ   795000.0     2012-03-15            D      Y        F   \n",
       "1   CR53EZ  1250000.0     2015-12-18            D      N        F   \n",
       "2   CR53EZ  1000000.0     2011-12-22            D      Y        F   \n",
       "3   CR53EZ   970000.0     2015-12-04            D      N        F   \n",
       "4   CR53EZ   995000.0     2016-10-18            D      N        F   \n",
       "\n",
       "  categorytype recordstatus    year  tfarea  numberrooms     priceper  \\\n",
       "0            A            A  2012.0   250.0          7.0  3180.000000   \n",
       "1            A            A  2015.0   279.0          9.0  4480.286738   \n",
       "2            A            A  2011.0   302.0          9.0  3311.258278   \n",
       "3            A            A  2015.0   272.0          9.0  3566.176471   \n",
       "4            A            A  2016.0   288.0          7.0  3454.861111   \n",
       "\n",
       "       pcd      pcd2    dointr  doterm                       geometry  \n",
       "0  CR5 3EZ  CR5  3EZ  201107.0     NaN  POINT (528925.000 157964.000)  \n",
       "1  CR5 3EZ  CR5  3EZ  201107.0     NaN  POINT (528925.000 157964.000)  \n",
       "2  CR5 3EZ  CR5  3EZ  201107.0     NaN  POINT (528925.000 157964.000)  \n",
       "3  CR5 3EZ  CR5  3EZ  201107.0     NaN  POINT (528925.000 157964.000)  \n",
       "4  CR5 3EZ  CR5  3EZ  201107.0     NaN  POINT (528925.000 157964.000)  "
      ],
      "text/html": "<div>\n<style scoped>\n    .dataframe tbody tr th:only-of-type {\n        vertical-align: middle;\n    }\n\n    .dataframe tbody tr th {\n        vertical-align: top;\n    }\n\n    .dataframe thead th {\n        text-align: right;\n    }\n</style>\n<table border=\"1\" class=\"dataframe\">\n  <thead>\n    <tr style=\"text-align: right;\">\n      <th></th>\n      <th>postcode</th>\n      <th>price</th>\n      <th>dateoftransfer</th>\n      <th>propertytype</th>\n      <th>oldnew</th>\n      <th>duration</th>\n      <th>categorytype</th>\n      <th>recordstatus</th>\n      <th>year</th>\n      <th>tfarea</th>\n      <th>numberrooms</th>\n      <th>priceper</th>\n      <th>pcd</th>\n      <th>pcd2</th>\n      <th>dointr</th>\n      <th>doterm</th>\n      <th>geometry</th>\n    </tr>\n  </thead>\n  <tbody>\n    <tr>\n      <th>0</th>\n      <td>CR53EZ</td>\n      <td>795000.0</td>\n      <td>2012-03-15</td>\n      <td>D</td>\n      <td>Y</td>\n      <td>F</td>\n      <td>A</td>\n      <td>A</td>\n      <td>2012.0</td>\n      <td>250.0</td>\n      <td>7.0</td>\n      <td>3180.000000</td>\n      <td>CR5 3EZ</td>\n      <td>CR5  3EZ</td>\n      <td>201107.0</td>\n      <td>NaN</td>\n      <td>POINT (528925.000 157964.000)</td>\n    </tr>\n    <tr>\n      <th>1</th>\n      <td>CR53EZ</td>\n      <td>1250000.0</td>\n      <td>2015-12-18</td>\n      <td>D</td>\n      <td>N</td>\n      <td>F</td>\n      <td>A</td>\n      <td>A</td>\n      <td>2015.0</td>\n      <td>279.0</td>\n      <td>9.0</td>\n      <td>4480.286738</td>\n      <td>CR5 3EZ</td>\n      <td>CR5  3EZ</td>\n      <td>201107.0</td>\n      <td>NaN</td>\n      <td>POINT (528925.000 157964.000)</td>\n    </tr>\n    <tr>\n      <th>2</th>\n      <td>CR53EZ</td>\n      <td>1000000.0</td>\n      <td>2011-12-22</td>\n      <td>D</td>\n      <td>Y</td>\n      <td>F</td>\n      <td>A</td>\n      <td>A</td>\n      <td>2011.0</td>\n      <td>302.0</td>\n      <td>9.0</td>\n      <td>3311.258278</td>\n      <td>CR5 3EZ</td>\n      <td>CR5  3EZ</td>\n      <td>201107.0</td>\n      <td>NaN</td>\n      <td>POINT (528925.000 157964.000)</td>\n    </tr>\n    <tr>\n      <th>3</th>\n      <td>CR53EZ</td>\n      <td>970000.0</td>\n      <td>2015-12-04</td>\n      <td>D</td>\n      <td>N</td>\n      <td>F</td>\n      <td>A</td>\n      <td>A</td>\n      <td>2015.0</td>\n      <td>272.0</td>\n      <td>9.0</td>\n      <td>3566.176471</td>\n      <td>CR5 3EZ</td>\n      <td>CR5  3EZ</td>\n      <td>201107.0</td>\n      <td>NaN</td>\n      <td>POINT (528925.000 157964.000)</td>\n    </tr>\n    <tr>\n      <th>4</th>\n      <td>CR53EZ</td>\n      <td>995000.0</td>\n      <td>2016-10-18</td>\n      <td>D</td>\n      <td>N</td>\n      <td>F</td>\n      <td>A</td>\n      <td>A</td>\n      <td>2016.0</td>\n      <td>288.0</td>\n      <td>7.0</td>\n      <td>3454.861111</td>\n      <td>CR5 3EZ</td>\n      <td>CR5  3EZ</td>\n      <td>201107.0</td>\n      <td>NaN</td>\n      <td>POINT (528925.000 157964.000)</td>\n    </tr>\n  </tbody>\n</table>\n</div>"
     },
     "metadata": {},
     "execution_count": 4
    }
   ],
   "source": [
    "data.head(5)"
   ]
  },
  {
   "cell_type": "code",
   "execution_count": null,
   "metadata": {},
   "outputs": [],
   "source": []
  }
 ]
}